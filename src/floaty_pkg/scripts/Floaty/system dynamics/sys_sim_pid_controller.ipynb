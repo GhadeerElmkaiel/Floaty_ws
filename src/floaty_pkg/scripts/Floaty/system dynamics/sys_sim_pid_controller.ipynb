{
 "cells": [
  {
   "cell_type": "code",
   "execution_count": 3,
   "id": "deef848f",
   "metadata": {},
   "outputs": [],
   "source": [
    "\n",
    "import numpy as np\n",
    "import matplotlib.pyplot as plt\n",
    "import control as ctrl\n",
    "import ipywidgets as widgets\n",
    "from ipywidgets import interact, interactive, VBox, HBox, Button\n",
    "from IPython.display import display, clear_output\n",
    "\n",
    "\n",
    "\n",
    "roll_A = [[-17.5, -126],\n",
    "          [1, 0]]\n",
    "roll_B = [[-380],\n",
    "          [0]]\n",
    "roll_C = [[1, 0]]\n",
    "roll_D = [[0]]\n",
    "\n",
    "\n",
    "\n",
    "# pithc_A = [[-17.5, -126],\n",
    "#           [1, 0]]\n",
    "\n",
    "def define_state_space_system():\n",
    "    \"\"\"\n",
    "    Define a second-order system:\n",
    "    Example: ẍ + 3ẋ + 2x = u(t)\n",
    "    Converted to state-space:\n",
    "        A = [[0, 1], [-2, -3]]\n",
    "        B = [[0], [1]]\n",
    "        C = [[1, 0]]\n",
    "        D = [[0]]\n",
    "    \"\"\"\n",
    "    A = roll_A\n",
    "    B = roll_B\n",
    "    C = roll_C\n",
    "    D = roll_D\n",
    "    return ctrl.ss(A, B, C, D)\n",
    "\n",
    "\n",
    "\n",
    "# PID controller in state-space form\n",
    "def pid_controller_ss(Kp, Ki, Kd):\n",
    "    # PID = Kd*s^2 + Kp*s + Ki / s\n",
    "    num = [Kd, Kp, Ki]\n",
    "    den = [1, 0]\n",
    "    pid_tf = ctrl.TransferFunction(num, den)\n",
    "    return ctrl.tf2ss(pid_tf)\n",
    "\n",
    "# Connect both in state-space\n",
    "def connect_controller_to_plant_ss(pid_ss, plant_ss):\n",
    "    open_loop_ss = ctrl.series(pid_ss, plant_ss)\n",
    "    closed_loop_ss = ctrl.feedback(open_loop_ss, 1)\n",
    "    return closed_loop_ss\n",
    "\n",
    "# Run simulation\n",
    "def run_simulation(Kp, Ki, Kd, x0_val):\n",
    "    plant_ss = define_state_space_system()\n",
    "    pid_ss = pid_controller_ss(Kp, Ki, Kd)\n",
    "    closed_loop_ss = connect_controller_to_plant_ss(pid_ss, plant_ss)\n",
    "\n",
    "    # Simulate with initial condition\n",
    "    n_states = closed_loop_ss.A.shape[0]\n",
    "    x0 = np.zeros((n_states,))\n",
    "    x0[0] = x0_val  # set first state\n",
    "\n",
    "    T = np.linspace(0, 10, 1000)\n",
    "    t, y = ctrl.step_response(closed_loop_ss, T=T, X0=x0)\n",
    "\n",
    "    plt.figure(figsize=(8, 4))\n",
    "    plt.plot(t, y, label=f'Initial state x0 = {x0_val}')\n",
    "    plt.title(\"Step Response with PID (State-Space + Initial State)\")\n",
    "    plt.xlabel(\"Time [s]\")\n",
    "    plt.ylabel(\"Output\")\n",
    "    plt.grid(True)\n",
    "    plt.legend()\n",
    "    plt.show()\n"
   ]
  },
  {
   "cell_type": "code",
   "execution_count": 4,
   "id": "a9e6fbf5",
   "metadata": {},
   "outputs": [
    {
     "data": {
      "application/vnd.jupyter.widget-view+json": {
       "model_id": "c0ea5c8b250f44e6aab70215547cc3f7",
       "version_major": 2,
       "version_minor": 0
      },
      "text/plain": [
       "VBox(children=(HBox(children=(FloatSlider(value=1.0, description='Kp', max=10.0), FloatSlider(value=1.0, descr…"
      ]
     },
     "metadata": {},
     "output_type": "display_data"
    }
   ],
   "source": [
    "\n",
    "\n",
    "# Sliders\n",
    "Kp_slider = widgets.FloatSlider(value=1.0, min=0.0, max=10.0, step=0.1, description='Kp')\n",
    "Ki_slider = widgets.FloatSlider(value=1.0, min=0.0, max=10.0, step=0.1, description='Ki')\n",
    "Kd_slider = widgets.FloatSlider(value=0.0, min=0.0, max=5.0, step=0.1, description='Kd')\n",
    "x0_slider = widgets.FloatSlider(value=0.0, min=-5.0, max=5.0, step=0.1, description='Initial x₀')\n",
    "restart_button = Button(description=\"Restart Simulation\")\n",
    "output = widgets.Output()\n",
    "\n",
    "def on_restart_clicked(b):\n",
    "    with output:\n",
    "        clear_output(wait=True)\n",
    "        run_simulation(Kp_slider.value, Ki_slider.value, Kd_slider.value, x0_slider.value)\n",
    "\n",
    "restart_button.on_click(on_restart_clicked)\n",
    "\n",
    "ui = VBox([\n",
    "    HBox([Kp_slider, Ki_slider, Kd_slider]),\n",
    "    HBox([x0_slider, restart_button]),\n",
    "    output\n",
    "])\n",
    "\n",
    "display(ui)\n",
    "on_restart_clicked(None)"
   ]
  }
 ],
 "metadata": {
  "kernelspec": {
   "display_name": "Floaty",
   "language": "python",
   "name": "python3"
  },
  "language_info": {
   "codemirror_mode": {
    "name": "ipython",
    "version": 3
   },
   "file_extension": ".py",
   "mimetype": "text/x-python",
   "name": "python",
   "nbconvert_exporter": "python",
   "pygments_lexer": "ipython3",
   "version": "3.8.16"
  }
 },
 "nbformat": 4,
 "nbformat_minor": 5
}
